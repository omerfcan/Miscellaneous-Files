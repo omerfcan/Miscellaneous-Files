{
 "cells": [
  {
   "cell_type": "code",
   "execution_count": 1,
   "id": "969e1da5",
   "metadata": {},
   "outputs": [],
   "source": [
    "import pandas as pd\n",
    "import numpy as np\n",
    "import matplotlib.pyplot as plt\n",
    "import seaborn as sns"
   ]
  },
  {
   "cell_type": "markdown",
   "id": "bafdf99c",
   "metadata": {},
   "source": [
    "let's create a data which shows sales quantities of a dress."
   ]
  },
  {
   "cell_type": "code",
   "execution_count": 2,
   "id": "88b6237b",
   "metadata": {},
   "outputs": [],
   "source": [
    "np.random.seed(1)\n",
    "internet_sales= np.random.randint(10,20,20)"
   ]
  },
  {
   "cell_type": "code",
   "execution_count": 3,
   "id": "e7b691c2",
   "metadata": {},
   "outputs": [],
   "source": [
    "np.random.seed(2)\n",
    "shopping_centre_sales =np.random.randint(10,20,20)"
   ]
  },
  {
   "cell_type": "code",
   "execution_count": 4,
   "id": "b2a4b47f",
   "metadata": {},
   "outputs": [
    {
     "data": {
      "text/plain": [
       "array([15, 18, 19, 15, 10, 10, 11, 17, 16, 19, 12, 14, 15, 12, 14, 12, 14,\n",
       "       17, 17, 19])"
      ]
     },
     "execution_count": 4,
     "metadata": {},
     "output_type": "execute_result"
    }
   ],
   "source": [
    "internet_sales"
   ]
  },
  {
   "cell_type": "code",
   "execution_count": 5,
   "id": "37510cd9",
   "metadata": {},
   "outputs": [
    {
     "data": {
      "text/plain": [
       "array([18, 18, 16, 12, 18, 17, 12, 11, 15, 14, 14, 15, 17, 13, 16, 14, 13,\n",
       "       17, 16, 11])"
      ]
     },
     "execution_count": 5,
     "metadata": {},
     "output_type": "execute_result"
    }
   ],
   "source": [
    "shopping_centre_sales"
   ]
  },
  {
   "cell_type": "code",
   "execution_count": 6,
   "id": "515285e7",
   "metadata": {},
   "outputs": [],
   "source": [
    "percentage_of_discount= np.array([40,50,40,20,30,30,20,18,25,25,25,25,35,25,32,22,22,45,38,40])"
   ]
  },
  {
   "cell_type": "code",
   "execution_count": 7,
   "id": "788814f0",
   "metadata": {},
   "outputs": [],
   "source": [
    "d = {'internet_sales': internet_sales, 'shopping_centre_sales': shopping_centre_sales, \"percentage_of_discount\":percentage_of_discount }\n",
    "df = pd.DataFrame(data=d, columns=[\"internet_sales\",\"shopping_centre_sales\",\"percentage_of_discount\"])"
   ]
  },
  {
   "cell_type": "code",
   "execution_count": 8,
   "id": "5a27d825",
   "metadata": {},
   "outputs": [
    {
     "data": {
      "text/html": [
       "<div>\n",
       "<style scoped>\n",
       "    .dataframe tbody tr th:only-of-type {\n",
       "        vertical-align: middle;\n",
       "    }\n",
       "\n",
       "    .dataframe tbody tr th {\n",
       "        vertical-align: top;\n",
       "    }\n",
       "\n",
       "    .dataframe thead th {\n",
       "        text-align: right;\n",
       "    }\n",
       "</style>\n",
       "<table border=\"1\" class=\"dataframe\">\n",
       "  <thead>\n",
       "    <tr style=\"text-align: right;\">\n",
       "      <th></th>\n",
       "      <th>internet_sales</th>\n",
       "      <th>shopping_centre_sales</th>\n",
       "      <th>percentage_of_discount</th>\n",
       "    </tr>\n",
       "  </thead>\n",
       "  <tbody>\n",
       "    <tr>\n",
       "      <th>0</th>\n",
       "      <td>15</td>\n",
       "      <td>18</td>\n",
       "      <td>40</td>\n",
       "    </tr>\n",
       "    <tr>\n",
       "      <th>1</th>\n",
       "      <td>18</td>\n",
       "      <td>18</td>\n",
       "      <td>50</td>\n",
       "    </tr>\n",
       "    <tr>\n",
       "      <th>2</th>\n",
       "      <td>19</td>\n",
       "      <td>16</td>\n",
       "      <td>40</td>\n",
       "    </tr>\n",
       "    <tr>\n",
       "      <th>3</th>\n",
       "      <td>15</td>\n",
       "      <td>12</td>\n",
       "      <td>20</td>\n",
       "    </tr>\n",
       "    <tr>\n",
       "      <th>4</th>\n",
       "      <td>10</td>\n",
       "      <td>18</td>\n",
       "      <td>30</td>\n",
       "    </tr>\n",
       "  </tbody>\n",
       "</table>\n",
       "</div>"
      ],
      "text/plain": [
       "   internet_sales  shopping_centre_sales  percentage_of_discount\n",
       "0              15                     18                      40\n",
       "1              18                     18                      50\n",
       "2              19                     16                      40\n",
       "3              15                     12                      20\n",
       "4              10                     18                      30"
      ]
     },
     "execution_count": 8,
     "metadata": {},
     "output_type": "execute_result"
    }
   ],
   "source": [
    "df.head()"
   ]
  },
  {
   "cell_type": "code",
   "execution_count": 9,
   "id": "255fc31a",
   "metadata": {},
   "outputs": [],
   "source": [
    "df[\"total_sales\"] = df.internet_sales + df.shopping_centre_sales"
   ]
  },
  {
   "cell_type": "code",
   "execution_count": 10,
   "id": "00596db3",
   "metadata": {},
   "outputs": [
    {
     "data": {
      "text/html": [
       "<div>\n",
       "<style scoped>\n",
       "    .dataframe tbody tr th:only-of-type {\n",
       "        vertical-align: middle;\n",
       "    }\n",
       "\n",
       "    .dataframe tbody tr th {\n",
       "        vertical-align: top;\n",
       "    }\n",
       "\n",
       "    .dataframe thead th {\n",
       "        text-align: right;\n",
       "    }\n",
       "</style>\n",
       "<table border=\"1\" class=\"dataframe\">\n",
       "  <thead>\n",
       "    <tr style=\"text-align: right;\">\n",
       "      <th></th>\n",
       "      <th>internet_sales</th>\n",
       "      <th>shopping_centre_sales</th>\n",
       "      <th>percentage_of_discount</th>\n",
       "      <th>total_sales</th>\n",
       "    </tr>\n",
       "  </thead>\n",
       "  <tbody>\n",
       "    <tr>\n",
       "      <th>0</th>\n",
       "      <td>15</td>\n",
       "      <td>18</td>\n",
       "      <td>40</td>\n",
       "      <td>33</td>\n",
       "    </tr>\n",
       "    <tr>\n",
       "      <th>1</th>\n",
       "      <td>18</td>\n",
       "      <td>18</td>\n",
       "      <td>50</td>\n",
       "      <td>36</td>\n",
       "    </tr>\n",
       "    <tr>\n",
       "      <th>2</th>\n",
       "      <td>19</td>\n",
       "      <td>16</td>\n",
       "      <td>40</td>\n",
       "      <td>35</td>\n",
       "    </tr>\n",
       "    <tr>\n",
       "      <th>3</th>\n",
       "      <td>15</td>\n",
       "      <td>12</td>\n",
       "      <td>20</td>\n",
       "      <td>27</td>\n",
       "    </tr>\n",
       "    <tr>\n",
       "      <th>4</th>\n",
       "      <td>10</td>\n",
       "      <td>18</td>\n",
       "      <td>30</td>\n",
       "      <td>28</td>\n",
       "    </tr>\n",
       "  </tbody>\n",
       "</table>\n",
       "</div>"
      ],
      "text/plain": [
       "   internet_sales  shopping_centre_sales  percentage_of_discount  total_sales\n",
       "0              15                     18                      40           33\n",
       "1              18                     18                      50           36\n",
       "2              19                     16                      40           35\n",
       "3              15                     12                      20           27\n",
       "4              10                     18                      30           28"
      ]
     },
     "execution_count": 10,
     "metadata": {},
     "output_type": "execute_result"
    }
   ],
   "source": [
    "df.head()"
   ]
  },
  {
   "cell_type": "code",
   "execution_count": 11,
   "id": "578f60fe",
   "metadata": {},
   "outputs": [
    {
     "data": {
      "text/plain": [
       "<AxesSubplot:xlabel='total_sales', ylabel='percentage_of_discount'>"
      ]
     },
     "execution_count": 11,
     "metadata": {},
     "output_type": "execute_result"
    },
    {
     "data": {
      "image/png": "[encoded data removed]",
      "text/plain": [
       "<Figure size 432x288 with 1 Axes>"
      ]
     },
     "metadata": {
      "needs_background": "light"
     },
     "output_type": "display_data"
    }
   ],
   "source": [
    "sns.scatterplot(x=\"total_sales\",y=\"percentage_of_discount\", data=df)"
   ]
  },
  {
   "cell_type": "markdown",
   "id": "e2cd4f1e",
   "metadata": {},
   "source": [
    "lets draw a regression plot"
   ]
  },
  {
   "cell_type": "code",
   "execution_count": 12,
   "id": "c36417c8",
   "metadata": {},
   "outputs": [
    {
     "data": {
      "text/plain": [
       "<AxesSubplot:xlabel='total_sales', ylabel='percentage_of_discount'>"
      ]
     },
     "execution_count": 12,
     "metadata": {},
     "output_type": "execute_result"
    },
    {
     "data": {
      "image/png": "[encoded data removed]",
      "text/plain": [
       "<Figure size 432x288 with 1 Axes>"
      ]
     },
     "metadata": {
      "needs_background": "light"
     },
     "output_type": "display_data"
    }
   ],
   "source": [
    "sns.regplot(x=\"total_sales\",y=\"percentage_of_discount\", data=df)"
   ]
  },
  {
   "cell_type": "markdown",
   "id": "add09384",
   "metadata": {},
   "source": [
    "Let's use numpy polyfit"
   ]
  },
  {
   "cell_type": "code",
   "execution_count": 13,
   "id": "c68516b6",
   "metadata": {},
   "outputs": [],
   "source": [
    "X = df.total_sales\n",
    "y = df.percentage_of_discount"
   ]
  },
  {
   "cell_type": "code",
   "execution_count": 14,
   "id": "2bf8a04f",
   "metadata": {},
   "outputs": [
    {
     "data": {
      "text/plain": [
       "array([  2.03761819, -30.0653792 ])"
      ]
     },
     "execution_count": 14,
     "metadata": {},
     "output_type": "execute_result"
    }
   ],
   "source": [
    "np.polyfit(X,y,1)"
   ]
  },
  {
   "cell_type": "code",
   "execution_count": 15,
   "id": "898f537c",
   "metadata": {},
   "outputs": [],
   "source": [
    "potential_sales = np.linspace(20,40,20)"
   ]
  },
  {
   "cell_type": "code",
   "execution_count": 16,
   "id": "3fc72fa7",
   "metadata": {},
   "outputs": [],
   "source": [
    "predicted_discounts = 2.03761819*potential_sales + (-30.0653792)"
   ]
  },
  {
   "cell_type": "code",
   "execution_count": 17,
   "id": "fcca217a",
   "metadata": {},
   "outputs": [
    {
     "data": {
      "text/plain": [
       "[<matplotlib.lines.Line2D at 0x1e7071c2b80>]"
      ]
     },
     "execution_count": 17,
     "metadata": {},
     "output_type": "execute_result"
    },
    {
     "data": {
      "image/png": "[encoded data removed]",
      "text/plain": [
       "<Figure size 432x288 with 1 Axes>"
      ]
     },
     "metadata": {
      "needs_background": "light"
     },
     "output_type": "display_data"
    }
   ],
   "source": [
    "plt.plot(potential_sales,predicted_discounts)"
   ]
  },
  {
   "cell_type": "code",
   "execution_count": 18,
   "id": "3cb934d0",
   "metadata": {},
   "outputs": [
    {
     "data": {
      "text/plain": [
       "[<matplotlib.lines.Line2D at 0x1e7072447f0>]"
      ]
     },
     "execution_count": 18,
     "metadata": {},
     "output_type": "execute_result"
    },
    {
     "data": {
      "image/png": "[encoded data removed]",
      "text/plain": [
       "<Figure size 432x288 with 1 Axes>"
      ]
     },
     "metadata": {
      "needs_background": "light"
     },
     "output_type": "display_data"
    }
   ],
   "source": [
    "sns.scatterplot(x=\"total_sales\",y=\"percentage_of_discount\", data=df)\n",
    "plt.plot(potential_sales,predicted_discounts, color=\"red\")"
   ]
  },
  {
   "cell_type": "markdown",
   "id": "ed66c971",
   "metadata": {},
   "source": [
    "Let's increase the polynomial degree."
   ]
  },
  {
   "cell_type": "code",
   "execution_count": 20,
   "id": "a8a907bc",
   "metadata": {},
   "outputs": [
    {
     "data": {
      "text/plain": [
       "array([ 1.15014920e-02, -8.71879815e-01,  2.30833469e+01, -1.89294658e+02])"
      ]
     },
     "execution_count": 20,
     "metadata": {},
     "output_type": "execute_result"
    }
   ],
   "source": [
    "np.polyfit(X,y,3)"
   ]
  },
  {
   "cell_type": "code",
   "execution_count": 21,
   "id": "44fab9e8",
   "metadata": {},
   "outputs": [],
   "source": [
    "predicted_discounts = 1.15014920e-02*potential_sales**3 + -8.71879815e-01*potential_sales**2+2.30833469e+01*potential_sales + -1.89294658e+02"
   ]
  },
  {
   "cell_type": "code",
   "execution_count": 22,
   "id": "fcc91160",
   "metadata": {},
   "outputs": [
    {
     "data": {
      "text/plain": [
       "[<matplotlib.lines.Line2D at 0x1e7072b4a00>]"
      ]
     },
     "execution_count": 22,
     "metadata": {},
     "output_type": "execute_result"
    },
    {
     "data": {
      "image/png": "[encoded data removed]",
      "text/plain": [
       "<Figure size 432x288 with 1 Axes>"
      ]
     },
     "metadata": {
      "needs_background": "light"
     },
     "output_type": "display_data"
    }
   ],
   "source": [
    "sns.scatterplot(x=\"total_sales\",y=\"percentage_of_discount\", data=df)\n",
    "plt.plot(potential_sales,predicted_discounts, color=\"red\")"
   ]
  },
  {
   "cell_type": "markdown",
   "id": "7570418b",
   "metadata": {},
   "source": [
    "But np.polyfit works only with a 1D X array. If we want to make predictions with more features we need a more powerful library, like Scikit-learn."
   ]
  },
  {
   "cell_type": "code",
   "execution_count": null,
   "id": "517cb764",
   "metadata": {},
   "outputs": [],
   "source": []
  }
 ],
 "metadata": {
  "kernelspec": {
   "display_name": "Python 3 (ipykernel)",
   "language": "python",
   "name": "python3"
  },
  "language_info": {
   "codemirror_mode": {
    "name": "ipython",
    "version": 3
   },
   "file_extension": ".py",
   "mimetype": "text/x-python",
   "name": "python",
   "nbconvert_exporter": "python",
   "pygments_lexer": "ipython3",
   "version": "3.9.12"
  }
 },
 "nbformat": 4,
 "nbformat_minor": 5
}
