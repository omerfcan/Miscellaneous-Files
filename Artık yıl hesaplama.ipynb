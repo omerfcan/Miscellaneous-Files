{
 "cells": [
  {
   "cell_type": "markdown",
   "id": "abd2d854",
   "metadata": {},
   "source": [
    "Genel bir kural olarak, artık yıllar 4 rakamının katı olan yıllardır:\n",
    "\n",
    "1980, 1984, 1988, 1992, 1996, 2000, 2004, 2008, 2012, 2016, 2020, 2024, 2028, 2032, 2036, 2040, 2044, 2048 vb.\n",
    "Ancak bu kuralın iki istisnası vardır:\n",
    "\n",
    "1. 100'ün katı olan yıllardan sadece 400'e kalansız olarak bölünebilenler artık yıldır:\n",
    "\n",
    "Örneğin 1600 ve 2000 yılları artık yıldır ancak 1800 ve 1900 artık yıl değildir.\n",
    "Sadece 400'e tam olarak bölünebilenlerin artık yıl kabul edilmesinin nedeni, bir astronomik yılın 365,25 gün değil, yaklaşık olarak 365,242 gün olmasından kaynaklanan hatayı gidermektir.\n",
    "\n",
    "2. Hesabı daha da hassas hâle getirmek için (400'e kalansız bölünebildiği halde) 4000'e kalansız olarak bölünebilen yıllar artık yıl kabul edilmez:\n",
    "\n",
    "Örneğin 4000, 8000, 12000, 16000, 24000, 32000, 48000, 64000 ve 96000 yılları 400'e tam bölünebildiği halde artık yıl kabul edilmeyecektir. (Kaynak: wikipedia)"
   ]
  },
  {
   "cell_type": "code",
   "execution_count": 3,
   "id": "f7cc66b7",
   "metadata": {},
   "outputs": [
    {
     "name": "stdout",
     "output_type": "stream",
     "text": [
      "Başlangıç yılını giriniz: 5\n",
      "Bitiş yılını giriniz: 6\n",
      "5 bir artık yıl değildir\n",
      "[5]\n"
     ]
    }
   ],
   "source": [
    "yıl1 = int(input(\"Başlangıç yılını giriniz: \"))\n",
    "yıl2 = int(input(\"Bitiş yılını giriniz: \"))\n",
    "\n",
    "artık_yıl_listesi = []\n",
    "\n",
    "\n",
    "def artık_yıl(yıl):\n",
    "         \n",
    "    if yıl < 100 and yıl % 4 == 0:\n",
    "        print(f\"{yıl} bir artık yıldır.\")\n",
    "        return yıl\n",
    "    elif 100 <= yıl < 4000 and yıl % 100 == 0 and yıl % 400 == 0:\n",
    "        print(f\"{yıl} bir artık yıldır.\")\n",
    "        return yıl\n",
    "    elif 100 <= yıl < 4000 and yıl % 100 != 0 and yıl % 4 == 0:\n",
    "        print(f\"{yıl} bir artık yıldır.\")\n",
    "        return yıl\n",
    "    elif yıl > 4000 and yıl % 400 == 0 and yıl % 4000 != 0:\n",
    "        print(f\"{yıl} bir artık yıldır.\")\n",
    "        return yıl\n",
    "    else: \n",
    "        print(f\"{yıl} bir artık yıl değildir\")\n",
    "        return yıl\n",
    "        artık_yıl_listesi.pop(yıl)\n",
    "        \n",
    "for i in range(yıl1, yıl2):\n",
    "       \n",
    "    artık_yıl_listesi.append(artık_yıl(i))\n",
    "    i = i + 1\n",
    "print(artık_yıl_listesi)"
   ]
  }
 ],
 "metadata": {
  "kernelspec": {
   "display_name": "Python 3 (ipykernel)",
   "language": "python",
   "name": "python3"
  },
  "language_info": {
   "codemirror_mode": {
    "name": "ipython",
    "version": 3
   },
   "file_extension": ".py",
   "mimetype": "text/x-python",
   "name": "python",
   "nbconvert_exporter": "python",
   "pygments_lexer": "ipython3",
   "version": "3.9.12"
  }
 },
 "nbformat": 4,
 "nbformat_minor": 5
}
